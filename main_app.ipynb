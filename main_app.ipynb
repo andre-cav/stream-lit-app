{
  "nbformat": 4,
  "nbformat_minor": 0,
  "metadata": {
    "colab": {
      "provenance": []
    },
    "kernelspec": {
      "name": "python3",
      "display_name": "Python 3"
    },
    "language_info": {
      "name": "python"
    }
  },
  "cells": [
    {
      "cell_type": "code",
      "source": [
        "!pip install streamlit -q"
      ],
      "metadata": {
        "colab": {
          "base_uri": "https://localhost:8080/"
        },
        "id": "6jODUeHwWxPR",
        "outputId": "00d51689-ea67-4f50-cfa7-518302690ab7"
      },
      "execution_count": 1,
      "outputs": [
        {
          "output_type": "stream",
          "name": "stdout",
          "text": [
            "\u001b[2K     \u001b[90m━━━━━━━━━━━━━━━━━━━━━━━━━━━━━━━━━━━━━━━━\u001b[0m \u001b[32m44.3/44.3 kB\u001b[0m \u001b[31m1.8 MB/s\u001b[0m eta \u001b[36m0:00:00\u001b[0m\n",
            "\u001b[2K   \u001b[90m━━━━━━━━━━━━━━━━━━━━━━━━━━━━━━━━━━━━━━━━\u001b[0m \u001b[32m9.9/9.9 MB\u001b[0m \u001b[31m74.5 MB/s\u001b[0m eta \u001b[36m0:00:00\u001b[0m\n",
            "\u001b[2K   \u001b[90m━━━━━━━━━━━━━━━━━━━━━━━━━━━━━━━━━━━━━━━━\u001b[0m \u001b[32m6.9/6.9 MB\u001b[0m \u001b[31m69.5 MB/s\u001b[0m eta \u001b[36m0:00:00\u001b[0m\n",
            "\u001b[2K   \u001b[90m━━━━━━━━━━━━━━━━━━━━━━━━━━━━━━━━━━━━━━━━\u001b[0m \u001b[32m79.1/79.1 kB\u001b[0m \u001b[31m4.9 MB/s\u001b[0m eta \u001b[36m0:00:00\u001b[0m\n",
            "\u001b[?25h"
          ]
        }
      ]
    },
    {
      "cell_type": "code",
      "execution_count": 6,
      "metadata": {
        "colab": {
          "base_uri": "https://localhost:8080/"
        },
        "id": "PqTMqAvtT-2K",
        "outputId": "0847ddd3-acac-4e9a-f103-adff8254725c"
      },
      "outputs": [
        {
          "output_type": "stream",
          "name": "stdout",
          "text": [
            "Overwriting app.py\n"
          ]
        }
      ],
      "source": [
        "%%writefile app.py\n",
        "\n",
        "import streamlit as st\n",
        "\n",
        "# Configurações da página\n",
        "st.set_page_config(\n",
        "    page_title=\"André Cavalcanti\",\n",
        "    page_icon=\":briefcase:\",\n",
        "    layout=\"wide\",\n",
        ")\n",
        "\n",
        "# --- Seção de Apresentação ---\n",
        "st.title(\"André Cavalcanti - Portfolio :rocket:\")\n",
        "st.subheader(\"Aqui você encontrará alguns dos meus projetos.\")\n",
        "st.write(\"Meu nome é André Cavalcanti, sou formado em Engenharia de Produção pela Universidade Federal Fluminense e no momento estou cursando Master in Data Science pela FGV.\")\n",
        "st.write(\"Estou há alguns anos trabalhando na área de dados. Comecei como planner na Duty Free Dufry, passei pela área de seguros na Mag Seguros e atualmente estou na JHSF.\")\n",
        "st.markdown(\"---\")\n",
        "\n",
        "# --- Seção de Projetos ---\n",
        "st.header(\"Meus Projetos\")\n",
        "\n",
        "# Lista de projetos com nome e link\n",
        "projetos = [\n",
        "    {\"nome\": \"Projeto de Análise de Dados\", \"link\": \"https://link_para_seu_projeto_1.com\"},\n",
        "    {\"nome\": \"Aplicação Web com Streamlit\", \"link\": \"https://link_para_seu_projeto_2.com\"},\n",
        "    {\"nome\": \"Repositório de Machine Learning\", \"link\": \"https://link_para_seu_projeto_3.com\"},\n",
        "    {\"nome\": \"Outro Projeto Interessante\", \"link\": \"https://link_para_seu_projeto_4.com\"},\n",
        "]\n",
        "\n",
        "# Exibição dos projetos como links em Markdown\n",
        "for projeto in projetos:\n",
        "    markdown_link = f\"[{projeto['nome']}]({projeto['link']})\"\n",
        "    st.markdown(f\"- {markdown_link}\")\n",
        "\n",
        "st.markdown(\"---\")\n",
        "\n",
        "# --- Seção de Contato (Opcional) ---\n",
        "st.header(\"Entre em Contato\")\n",
        "st.write(\"Se você tiver alguma dúvida ou quiser conversar sobre algum projeto, fique à vontade para me contactar!\")\n",
        "st.write(\":email: andregomespc@gmail.com\")\n",
        "st.write(\":linkedin: [Meu LinkedIn](https://www.linkedin.com/in/andr%C3%A9-cavalcanti-591998106/)\")\n",
        "st.write(\":github: [Meu GitHub](https://github.com/andre-cav)\")\n",
        "\n",
        "# --- Rodapé ---\n",
        "st.markdown(\"---\")\n",
        "st.write(\"André Cavalcanti\")"
      ]
    },
    {
      "cell_type": "code",
      "source": [
        "! wget -q -O - ipv4.icanhazip.com"
      ],
      "metadata": {
        "colab": {
          "base_uri": "https://localhost:8080/"
        },
        "id": "6-KfZejAW-Jl",
        "outputId": "0c41ddd8-ee9c-486a-b68c-545f355d6e6b"
      },
      "execution_count": 7,
      "outputs": [
        {
          "output_type": "stream",
          "name": "stdout",
          "text": [
            "34.48.111.19\n"
          ]
        }
      ]
    },
    {
      "cell_type": "code",
      "source": [
        "!streamlit run app.py & npx localtunnel --port 8501"
      ],
      "metadata": {
        "colab": {
          "base_uri": "https://localhost:8080/"
        },
        "id": "IOjdbYbNXAaj",
        "outputId": "3f46725c-f48a-4608-cb08-349fc5ff1e1d"
      },
      "execution_count": null,
      "outputs": [
        {
          "output_type": "stream",
          "name": "stdout",
          "text": [
            "\n",
            "Collecting usage statistics. To deactivate, set browser.gatherUsageStats to false.\n",
            "\u001b[0m\n",
            "\u001b[1G\u001b[0K⠙\u001b[1G\u001b[0K⠹\u001b[1G\u001b[0K⠸\u001b[0m\n",
            "\u001b[34m\u001b[1m  You can now view your Streamlit app in your browser.\u001b[0m\n",
            "\u001b[0m\n",
            "\u001b[34m  Local URL: \u001b[0m\u001b[1mhttp://localhost:8501\u001b[0m\n",
            "\u001b[34m  Network URL: \u001b[0m\u001b[1mhttp://172.28.0.12:8501\u001b[0m\n",
            "\u001b[34m  External URL: \u001b[0m\u001b[1mhttp://34.48.111.19:8501\u001b[0m\n",
            "\u001b[0m\n",
            "\u001b[1G\u001b[0K⠼\u001b[1G\u001b[0K⠴\u001b[1G\u001b[0K⠦\u001b[1G\u001b[0K⠧\u001b[1G\u001b[0Kyour url is: https://eight-kiwis-shout.loca.lt\n"
          ]
        }
      ]
    }
  ]
}